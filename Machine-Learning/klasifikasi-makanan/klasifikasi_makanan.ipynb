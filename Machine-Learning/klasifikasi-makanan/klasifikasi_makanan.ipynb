{
  "nbformat": 4,
  "nbformat_minor": 0,
  "metadata": {
    "colab": {
      "provenance": [],
      "gpuType": "T4",
      "include_colab_link": true
    },
    "kernelspec": {
      "name": "python3",
      "display_name": "Python 3"
    },
    "language_info": {
      "name": "python"
    },
    "widgets": {
      "application/vnd.jupyter.widget-state+json": {
        "a95ee41563ae4d0e98f4e42b2be4c334": {
          "model_module": "@jupyter-widgets/controls",
          "model_name": "FileUploadModel",
          "model_module_version": "1.5.0",
          "state": {
            "_counter": 1,
            "_dom_classes": [],
            "_model_module": "@jupyter-widgets/controls",
            "_model_module_version": "1.5.0",
            "_model_name": "FileUploadModel",
            "_view_count": null,
            "_view_module": "@jupyter-widgets/controls",
            "_view_module_version": "1.5.0",
            "_view_name": "FileUploadView",
            "accept": "image/*",
            "button_style": "",
            "data": [
              null
            ],
            "description": "Upload",
            "description_tooltip": null,
            "disabled": false,
            "error": "",
            "icon": "upload",
            "layout": "IPY_MODEL_725d6ee1a4ee4adca772e093b1378332",
            "metadata": [
              {
                "name": "kerak-telor-5_jpg.rf.eea991790e94450e61ca26856b6cac3e.jpg",
                "type": "image/jpeg",
                "size": 11076,
                "lastModified": 1732335979906
              }
            ],
            "multiple": false,
            "style": "IPY_MODEL_48c8cb7558d9401f9ec5078430125248"
          }
        },
        "725d6ee1a4ee4adca772e093b1378332": {
          "model_module": "@jupyter-widgets/base",
          "model_name": "LayoutModel",
          "model_module_version": "1.2.0",
          "state": {
            "_model_module": "@jupyter-widgets/base",
            "_model_module_version": "1.2.0",
            "_model_name": "LayoutModel",
            "_view_count": null,
            "_view_module": "@jupyter-widgets/base",
            "_view_module_version": "1.2.0",
            "_view_name": "LayoutView",
            "align_content": null,
            "align_items": null,
            "align_self": null,
            "border": null,
            "bottom": null,
            "display": null,
            "flex": null,
            "flex_flow": null,
            "grid_area": null,
            "grid_auto_columns": null,
            "grid_auto_flow": null,
            "grid_auto_rows": null,
            "grid_column": null,
            "grid_gap": null,
            "grid_row": null,
            "grid_template_areas": null,
            "grid_template_columns": null,
            "grid_template_rows": null,
            "height": null,
            "justify_content": null,
            "justify_items": null,
            "left": null,
            "margin": null,
            "max_height": null,
            "max_width": null,
            "min_height": null,
            "min_width": null,
            "object_fit": null,
            "object_position": null,
            "order": null,
            "overflow": null,
            "overflow_x": null,
            "overflow_y": null,
            "padding": null,
            "right": null,
            "top": null,
            "visibility": null,
            "width": null
          }
        },
        "48c8cb7558d9401f9ec5078430125248": {
          "model_module": "@jupyter-widgets/controls",
          "model_name": "ButtonStyleModel",
          "model_module_version": "1.5.0",
          "state": {
            "_model_module": "@jupyter-widgets/controls",
            "_model_module_version": "1.5.0",
            "_model_name": "ButtonStyleModel",
            "_view_count": null,
            "_view_module": "@jupyter-widgets/base",
            "_view_module_version": "1.2.0",
            "_view_name": "StyleView",
            "button_color": null,
            "font_weight": ""
          }
        },
        "7b1e13e34a664d85aedb20e0a915a9bf": {
          "model_module": "@jupyter-widgets/controls",
          "model_name": "ButtonModel",
          "model_module_version": "1.5.0",
          "state": {
            "_dom_classes": [],
            "_model_module": "@jupyter-widgets/controls",
            "_model_module_version": "1.5.0",
            "_model_name": "ButtonModel",
            "_view_count": null,
            "_view_module": "@jupyter-widgets/controls",
            "_view_module_version": "1.5.0",
            "_view_name": "ButtonView",
            "button_style": "",
            "description": "Predict Image",
            "disabled": false,
            "icon": "",
            "layout": "IPY_MODEL_26363d4f32a94e48a6d734c3385371b8",
            "style": "IPY_MODEL_e7b1deca03284f9681df3a3167a86576",
            "tooltip": ""
          }
        },
        "26363d4f32a94e48a6d734c3385371b8": {
          "model_module": "@jupyter-widgets/base",
          "model_name": "LayoutModel",
          "model_module_version": "1.2.0",
          "state": {
            "_model_module": "@jupyter-widgets/base",
            "_model_module_version": "1.2.0",
            "_model_name": "LayoutModel",
            "_view_count": null,
            "_view_module": "@jupyter-widgets/base",
            "_view_module_version": "1.2.0",
            "_view_name": "LayoutView",
            "align_content": null,
            "align_items": null,
            "align_self": null,
            "border": null,
            "bottom": null,
            "display": null,
            "flex": null,
            "flex_flow": null,
            "grid_area": null,
            "grid_auto_columns": null,
            "grid_auto_flow": null,
            "grid_auto_rows": null,
            "grid_column": null,
            "grid_gap": null,
            "grid_row": null,
            "grid_template_areas": null,
            "grid_template_columns": null,
            "grid_template_rows": null,
            "height": null,
            "justify_content": null,
            "justify_items": null,
            "left": null,
            "margin": null,
            "max_height": null,
            "max_width": null,
            "min_height": null,
            "min_width": null,
            "object_fit": null,
            "object_position": null,
            "order": null,
            "overflow": null,
            "overflow_x": null,
            "overflow_y": null,
            "padding": null,
            "right": null,
            "top": null,
            "visibility": null,
            "width": null
          }
        },
        "e7b1deca03284f9681df3a3167a86576": {
          "model_module": "@jupyter-widgets/controls",
          "model_name": "ButtonStyleModel",
          "model_module_version": "1.5.0",
          "state": {
            "_model_module": "@jupyter-widgets/controls",
            "_model_module_version": "1.5.0",
            "_model_name": "ButtonStyleModel",
            "_view_count": null,
            "_view_module": "@jupyter-widgets/base",
            "_view_module_version": "1.2.0",
            "_view_name": "StyleView",
            "button_color": null,
            "font_weight": ""
          }
        }
      }
    },
    "accelerator": "GPU"
  },
  "cells": [
    {
      "cell_type": "markdown",
      "metadata": {
        "id": "view-in-github",
        "colab_type": "text"
      },
      "source": [
        "<a href=\"https://colab.research.google.com/github/muhammadalvarokhikman/Capstone-Project-Bangkit-2024-batch-2/blob/main/Machine-Learning/klasifikasi-makanan/klasifikasi_makanan.ipynb\" target=\"_parent\"><img src=\"https://colab.research.google.com/assets/colab-badge.svg\" alt=\"Open In Colab\"/></a>"
      ]
    },
    {
      "cell_type": "markdown",
      "source": [
        "# **Pengembangan Model Klasifikasi Gambar untuk Klasifikasi Multiclass Project \"RasaNusa\" Menggunakan Arsitektur TensorFlow dan MobileNetV2**"
      ],
      "metadata": {
        "id": "rvl6jK9s2DSJ"
      }
    },
    {
      "cell_type": "markdown",
      "source": [
        "Proyek ini mengembangkan dan mengimplementasikan model deep learning untuk klasifikasi gambar multiclass menggunakan arsitektur TensorFlow dan MobileNetV2. Dengan memanfaatkan teknik augmentasi data, transfer learning, serta evaluasi performa model."
      ],
      "metadata": {
        "id": "mQtDNuHm2gs_"
      }
    },
    {
      "cell_type": "markdown",
      "source": [
        "**<h3>1. Import Package**"
      ],
      "metadata": {
        "id": "b44Uh1Fq2OIK"
      }
    },
    {
      "cell_type": "code",
      "source": [
        "from tensorflow.keras.callbacks import EarlyStopping, ReduceLROnPlateau\n",
        "from tensorflow.keras.applications import MobileNetV2, EfficientNetB0\n",
        "from tensorflow.keras.preprocessing.image import ImageDataGenerator\n",
        "from tensorflow.keras import layers, models, regularizers\n",
        "from IPython.display import display, clear_output\n",
        "from tensorflow.keras.models import load_model\n",
        "import matplotlib.pyplot as plt\n",
        "from google.colab import drive\n",
        "import ipywidgets as widgets\n",
        "import tensorflow as tf\n",
        "from PIL import Image\n",
        "import numpy as np\n",
        "import io\n",
        "import os"
      ],
      "metadata": {
        "id": "2ztxlvaU2K0B"
      },
      "execution_count": 1,
      "outputs": []
    },
    {
      "cell_type": "markdown",
      "source": [
        "**<h3>2. Mount Google Drive**"
      ],
      "metadata": {
        "id": "mhUPqTQ0251C"
      }
    },
    {
      "cell_type": "code",
      "source": [
        "drive.mount('/content/drive')"
      ],
      "metadata": {
        "colab": {
          "base_uri": "https://localhost:8080/"
        },
        "id": "2P_hdj2b2-Qf",
        "outputId": "f28f464d-a520-4fd1-92a0-b0526bbe26e7"
      },
      "execution_count": 2,
      "outputs": [
        {
          "output_type": "stream",
          "name": "stdout",
          "text": [
            "Mounted at /content/drive\n"
          ]
        }
      ]
    },
    {
      "cell_type": "markdown",
      "source": [
        "**<h3>3. Direktori Dataset**"
      ],
      "metadata": {
        "id": "Fxy_c5Gk3TGp"
      }
    },
    {
      "cell_type": "code",
      "source": [
        "TRAIN_DIR = '/content/drive/MyDrive/Machine-Learning/klasifikasi-makanan/data/train'\n",
        "VALIDATION_DIR = '/content/drive/MyDrive/Machine-Learning/klasifikasi-makanan/data/valid'\n",
        "TEST_DIR = '/content/drive/MyDrive/Machine-Learning/klasifikasi-makanan/data/test'"
      ],
      "metadata": {
        "id": "yjTte4hn3VUV"
      },
      "execution_count": 3,
      "outputs": []
    },
    {
      "cell_type": "markdown",
      "source": [
        "## **4. Konfigurasi Data dan Augmentasi**"
      ],
      "metadata": {
        "id": "dbCR5Nx03b4E"
      }
    },
    {
      "cell_type": "code",
      "source": [
        "IMAGE_SIZE = (224, 224)\n",
        "BATCH_SIZE = 32\n",
        "\n",
        "# Data augmentasi dan pemrosesan dataset\n",
        "def train_val_datasets():\n",
        "    train_datagen = ImageDataGenerator(\n",
        "        rescale=1./255,\n",
        "        rotation_range=40,\n",
        "        width_shift_range=0.2,\n",
        "        height_shift_range=0.2,\n",
        "        shear_range=0.2,\n",
        "        zoom_range=0.2,\n",
        "        horizontal_flip=True,\n",
        "        fill_mode='nearest',\n",
        "        brightness_range=[0.8, 1.2],\n",
        "        channel_shift_range=20.0\n",
        "    )\n",
        "\n",
        "    val_datagen = ImageDataGenerator(rescale=1./255)\n",
        "\n",
        "    train_dataset = train_datagen.flow_from_directory(\n",
        "        TRAIN_DIR,\n",
        "        target_size=IMAGE_SIZE,\n",
        "        batch_size=BATCH_SIZE,\n",
        "        class_mode='categorical'\n",
        "    )\n",
        "\n",
        "    validation_dataset = val_datagen.flow_from_directory(\n",
        "        VALIDATION_DIR,\n",
        "        target_size=IMAGE_SIZE,\n",
        "        batch_size=BATCH_SIZE,\n",
        "        class_mode='categorical'\n",
        "    )\n",
        "\n",
        "    return train_dataset, validation_dataset\n",
        "\n",
        "train_dataset, validation_dataset = train_val_datasets()"
      ],
      "metadata": {
        "id": "Kmr4_pVp3bJh",
        "colab": {
          "base_uri": "https://localhost:8080/"
        },
        "outputId": "d3da19cd-fc74-4a19-ba1a-18925f5bca6d"
      },
      "execution_count": 4,
      "outputs": [
        {
          "output_type": "stream",
          "name": "stdout",
          "text": [
            "Found 1022 images belonging to 11 classes.\n",
            "Found 89 images belonging to 11 classes.\n"
          ]
        }
      ]
    },
    {
      "cell_type": "markdown",
      "source": [
        "**<h3>5. Create Model**"
      ],
      "metadata": {
        "id": "edjI0ISY38TK"
      }
    },
    {
      "cell_type": "code",
      "source": [
        "def create_model():\n",
        "    base_model = MobileNetV2(input_shape=(224, 224, 3), include_top=False, weights='imagenet')\n",
        "    base_model.trainable = True\n",
        "    for layer in base_model.layers[:-50]:\n",
        "        layer.trainable = False\n",
        "\n",
        "    model = models.Sequential([\n",
        "        base_model,\n",
        "        layers.GlobalAveragePooling2D(),\n",
        "        layers.Dense(256, activation='relu', kernel_regularizer=regularizers.l2(0.001)),\n",
        "        layers.Dropout(0.5),\n",
        "        layers.Dense(128, activation='relu', kernel_regularizer=regularizers.l2(0.001)),\n",
        "        layers.Dropout(0.3),\n",
        "        layers.Dense(len(train_dataset.class_indices), activation='softmax')\n",
        "    ])\n",
        "\n",
        "    model.compile(\n",
        "        optimizer=tf.keras.optimizers.Adam(learning_rate=0.0001),\n",
        "        loss=\"categorical_crossentropy\",\n",
        "        metrics=['accuracy']\n",
        "    )\n",
        "    return model\n",
        "\n",
        "classification_model = create_model()\n",
        "classification_model.summary()\n",
        "\n",
        "history_model = classification_model.fit(\n",
        "    train_dataset,\n",
        "    epochs=50,\n",
        "    validation_data=validation_dataset,\n",
        "    callbacks=[\n",
        "        EarlyStopping(monitor='val_loss', patience=5, restore_best_weights=True),\n",
        "        ReduceLROnPlateau(monitor='val_loss', factor=0.5, patience=3)\n",
        "    ]\n",
        ")"
      ],
      "metadata": {
        "id": "lQ42Cr4t35qL",
        "colab": {
          "base_uri": "https://localhost:8080/",
          "height": 897
        },
        "outputId": "0d89c2ae-a9fd-4393-ca04-268df3ef74e8"
      },
      "execution_count": 5,
      "outputs": [
        {
          "output_type": "stream",
          "name": "stdout",
          "text": [
            "Downloading data from https://storage.googleapis.com/tensorflow/keras-applications/mobilenet_v2/mobilenet_v2_weights_tf_dim_ordering_tf_kernels_1.0_224_no_top.h5\n",
            "\u001b[1m9406464/9406464\u001b[0m \u001b[32m━━━━━━━━━━━━━━━━━━━━\u001b[0m\u001b[37m\u001b[0m \u001b[1m0s\u001b[0m 0us/step\n"
          ]
        },
        {
          "output_type": "display_data",
          "data": {
            "text/plain": [
              "\u001b[1mModel: \"sequential\"\u001b[0m\n"
            ],
            "text/html": [
              "<pre style=\"white-space:pre;overflow-x:auto;line-height:normal;font-family:Menlo,'DejaVu Sans Mono',consolas,'Courier New',monospace\"><span style=\"font-weight: bold\">Model: \"sequential\"</span>\n",
              "</pre>\n"
            ]
          },
          "metadata": {}
        },
        {
          "output_type": "display_data",
          "data": {
            "text/plain": [
              "┏━━━━━━━━━━━━━━━━━━━━━━━━━━━━━━━━━━━━━━┳━━━━━━━━━━━━━━━━━━━━━━━━━━━━━┳━━━━━━━━━━━━━━━━━┓\n",
              "┃\u001b[1m \u001b[0m\u001b[1mLayer (type)                        \u001b[0m\u001b[1m \u001b[0m┃\u001b[1m \u001b[0m\u001b[1mOutput Shape               \u001b[0m\u001b[1m \u001b[0m┃\u001b[1m \u001b[0m\u001b[1m        Param #\u001b[0m\u001b[1m \u001b[0m┃\n",
              "┡━━━━━━━━━━━━━━━━━━━━━━━━━━━━━━━━━━━━━━╇━━━━━━━━━━━━━━━━━━━━━━━━━━━━━╇━━━━━━━━━━━━━━━━━┩\n",
              "│ mobilenetv2_1.00_224 (\u001b[38;5;33mFunctional\u001b[0m)    │ (\u001b[38;5;45mNone\u001b[0m, \u001b[38;5;34m7\u001b[0m, \u001b[38;5;34m7\u001b[0m, \u001b[38;5;34m1280\u001b[0m)          │       \u001b[38;5;34m2,257,984\u001b[0m │\n",
              "├──────────────────────────────────────┼─────────────────────────────┼─────────────────┤\n",
              "│ global_average_pooling2d             │ (\u001b[38;5;45mNone\u001b[0m, \u001b[38;5;34m1280\u001b[0m)                │               \u001b[38;5;34m0\u001b[0m │\n",
              "│ (\u001b[38;5;33mGlobalAveragePooling2D\u001b[0m)             │                             │                 │\n",
              "├──────────────────────────────────────┼─────────────────────────────┼─────────────────┤\n",
              "│ dense (\u001b[38;5;33mDense\u001b[0m)                        │ (\u001b[38;5;45mNone\u001b[0m, \u001b[38;5;34m256\u001b[0m)                 │         \u001b[38;5;34m327,936\u001b[0m │\n",
              "├──────────────────────────────────────┼─────────────────────────────┼─────────────────┤\n",
              "│ dropout (\u001b[38;5;33mDropout\u001b[0m)                    │ (\u001b[38;5;45mNone\u001b[0m, \u001b[38;5;34m256\u001b[0m)                 │               \u001b[38;5;34m0\u001b[0m │\n",
              "├──────────────────────────────────────┼─────────────────────────────┼─────────────────┤\n",
              "│ dense_1 (\u001b[38;5;33mDense\u001b[0m)                      │ (\u001b[38;5;45mNone\u001b[0m, \u001b[38;5;34m128\u001b[0m)                 │          \u001b[38;5;34m32,896\u001b[0m │\n",
              "├──────────────────────────────────────┼─────────────────────────────┼─────────────────┤\n",
              "│ dropout_1 (\u001b[38;5;33mDropout\u001b[0m)                  │ (\u001b[38;5;45mNone\u001b[0m, \u001b[38;5;34m128\u001b[0m)                 │               \u001b[38;5;34m0\u001b[0m │\n",
              "├──────────────────────────────────────┼─────────────────────────────┼─────────────────┤\n",
              "│ dense_2 (\u001b[38;5;33mDense\u001b[0m)                      │ (\u001b[38;5;45mNone\u001b[0m, \u001b[38;5;34m11\u001b[0m)                  │           \u001b[38;5;34m1,419\u001b[0m │\n",
              "└──────────────────────────────────────┴─────────────────────────────┴─────────────────┘\n"
            ],
            "text/html": [
              "<pre style=\"white-space:pre;overflow-x:auto;line-height:normal;font-family:Menlo,'DejaVu Sans Mono',consolas,'Courier New',monospace\">┏━━━━━━━━━━━━━━━━━━━━━━━━━━━━━━━━━━━━━━┳━━━━━━━━━━━━━━━━━━━━━━━━━━━━━┳━━━━━━━━━━━━━━━━━┓\n",
              "┃<span style=\"font-weight: bold\"> Layer (type)                         </span>┃<span style=\"font-weight: bold\"> Output Shape                </span>┃<span style=\"font-weight: bold\">         Param # </span>┃\n",
              "┡━━━━━━━━━━━━━━━━━━━━━━━━━━━━━━━━━━━━━━╇━━━━━━━━━━━━━━━━━━━━━━━━━━━━━╇━━━━━━━━━━━━━━━━━┩\n",
              "│ mobilenetv2_1.00_224 (<span style=\"color: #0087ff; text-decoration-color: #0087ff\">Functional</span>)    │ (<span style=\"color: #00d7ff; text-decoration-color: #00d7ff\">None</span>, <span style=\"color: #00af00; text-decoration-color: #00af00\">7</span>, <span style=\"color: #00af00; text-decoration-color: #00af00\">7</span>, <span style=\"color: #00af00; text-decoration-color: #00af00\">1280</span>)          │       <span style=\"color: #00af00; text-decoration-color: #00af00\">2,257,984</span> │\n",
              "├──────────────────────────────────────┼─────────────────────────────┼─────────────────┤\n",
              "│ global_average_pooling2d             │ (<span style=\"color: #00d7ff; text-decoration-color: #00d7ff\">None</span>, <span style=\"color: #00af00; text-decoration-color: #00af00\">1280</span>)                │               <span style=\"color: #00af00; text-decoration-color: #00af00\">0</span> │\n",
              "│ (<span style=\"color: #0087ff; text-decoration-color: #0087ff\">GlobalAveragePooling2D</span>)             │                             │                 │\n",
              "├──────────────────────────────────────┼─────────────────────────────┼─────────────────┤\n",
              "│ dense (<span style=\"color: #0087ff; text-decoration-color: #0087ff\">Dense</span>)                        │ (<span style=\"color: #00d7ff; text-decoration-color: #00d7ff\">None</span>, <span style=\"color: #00af00; text-decoration-color: #00af00\">256</span>)                 │         <span style=\"color: #00af00; text-decoration-color: #00af00\">327,936</span> │\n",
              "├──────────────────────────────────────┼─────────────────────────────┼─────────────────┤\n",
              "│ dropout (<span style=\"color: #0087ff; text-decoration-color: #0087ff\">Dropout</span>)                    │ (<span style=\"color: #00d7ff; text-decoration-color: #00d7ff\">None</span>, <span style=\"color: #00af00; text-decoration-color: #00af00\">256</span>)                 │               <span style=\"color: #00af00; text-decoration-color: #00af00\">0</span> │\n",
              "├──────────────────────────────────────┼─────────────────────────────┼─────────────────┤\n",
              "│ dense_1 (<span style=\"color: #0087ff; text-decoration-color: #0087ff\">Dense</span>)                      │ (<span style=\"color: #00d7ff; text-decoration-color: #00d7ff\">None</span>, <span style=\"color: #00af00; text-decoration-color: #00af00\">128</span>)                 │          <span style=\"color: #00af00; text-decoration-color: #00af00\">32,896</span> │\n",
              "├──────────────────────────────────────┼─────────────────────────────┼─────────────────┤\n",
              "│ dropout_1 (<span style=\"color: #0087ff; text-decoration-color: #0087ff\">Dropout</span>)                  │ (<span style=\"color: #00d7ff; text-decoration-color: #00d7ff\">None</span>, <span style=\"color: #00af00; text-decoration-color: #00af00\">128</span>)                 │               <span style=\"color: #00af00; text-decoration-color: #00af00\">0</span> │\n",
              "├──────────────────────────────────────┼─────────────────────────────┼─────────────────┤\n",
              "│ dense_2 (<span style=\"color: #0087ff; text-decoration-color: #0087ff\">Dense</span>)                      │ (<span style=\"color: #00d7ff; text-decoration-color: #00d7ff\">None</span>, <span style=\"color: #00af00; text-decoration-color: #00af00\">11</span>)                  │           <span style=\"color: #00af00; text-decoration-color: #00af00\">1,419</span> │\n",
              "└──────────────────────────────────────┴─────────────────────────────┴─────────────────┘\n",
              "</pre>\n"
            ]
          },
          "metadata": {}
        },
        {
          "output_type": "display_data",
          "data": {
            "text/plain": [
              "\u001b[1m Total params: \u001b[0m\u001b[38;5;34m2,620,235\u001b[0m (10.00 MB)\n"
            ],
            "text/html": [
              "<pre style=\"white-space:pre;overflow-x:auto;line-height:normal;font-family:Menlo,'DejaVu Sans Mono',consolas,'Courier New',monospace\"><span style=\"font-weight: bold\"> Total params: </span><span style=\"color: #00af00; text-decoration-color: #00af00\">2,620,235</span> (10.00 MB)\n",
              "</pre>\n"
            ]
          },
          "metadata": {}
        },
        {
          "output_type": "display_data",
          "data": {
            "text/plain": [
              "\u001b[1m Trainable params: \u001b[0m\u001b[38;5;34m2,217,355\u001b[0m (8.46 MB)\n"
            ],
            "text/html": [
              "<pre style=\"white-space:pre;overflow-x:auto;line-height:normal;font-family:Menlo,'DejaVu Sans Mono',consolas,'Courier New',monospace\"><span style=\"font-weight: bold\"> Trainable params: </span><span style=\"color: #00af00; text-decoration-color: #00af00\">2,217,355</span> (8.46 MB)\n",
              "</pre>\n"
            ]
          },
          "metadata": {}
        },
        {
          "output_type": "display_data",
          "data": {
            "text/plain": [
              "\u001b[1m Non-trainable params: \u001b[0m\u001b[38;5;34m402,880\u001b[0m (1.54 MB)\n"
            ],
            "text/html": [
              "<pre style=\"white-space:pre;overflow-x:auto;line-height:normal;font-family:Menlo,'DejaVu Sans Mono',consolas,'Courier New',monospace\"><span style=\"font-weight: bold\"> Non-trainable params: </span><span style=\"color: #00af00; text-decoration-color: #00af00\">402,880</span> (1.54 MB)\n",
              "</pre>\n"
            ]
          },
          "metadata": {}
        },
        {
          "output_type": "stream",
          "name": "stdout",
          "text": [
            "Epoch 1/50\n"
          ]
        },
        {
          "output_type": "stream",
          "name": "stderr",
          "text": [
            "/usr/local/lib/python3.10/dist-packages/keras/src/trainers/data_adapters/py_dataset_adapter.py:122: UserWarning: Your `PyDataset` class should call `super().__init__(**kwargs)` in its constructor. `**kwargs` can include `workers`, `use_multiprocessing`, `max_queue_size`. Do not pass these arguments to `fit()`, as they will be ignored.\n",
            "  self._warn_if_super_not_called()\n"
          ]
        },
        {
          "output_type": "stream",
          "name": "stdout",
          "text": [
            "\u001b[1m32/32\u001b[0m \u001b[32m━━━━━━━━━━━━━━━━━━━━\u001b[0m\u001b[37m\u001b[0m \u001b[1m296s\u001b[0m 6s/step - accuracy: 0.1366 - loss: 3.1243 - val_accuracy: 0.5169 - val_loss: 2.3222 - learning_rate: 1.0000e-04\n",
            "Epoch 2/50\n",
            "\u001b[1m32/32\u001b[0m \u001b[32m━━━━━━━━━━━━━━━━━━━━\u001b[0m\u001b[37m\u001b[0m \u001b[1m23s\u001b[0m 555ms/step - accuracy: 0.3825 - loss: 2.4126 - val_accuracy: 0.7079 - val_loss: 1.7535 - learning_rate: 1.0000e-04\n",
            "Epoch 3/50\n",
            "\u001b[1m32/32\u001b[0m \u001b[32m━━━━━━━━━━━━━━━━━━━━\u001b[0m\u001b[37m\u001b[0m \u001b[1m41s\u001b[0m 554ms/step - accuracy: 0.6167 - loss: 1.8142 - val_accuracy: 0.8652 - val_loss: 1.2971 - learning_rate: 1.0000e-04\n",
            "Epoch 4/50\n",
            "\u001b[1m32/32\u001b[0m \u001b[32m━━━━━━━━━━━━━━━━━━━━\u001b[0m\u001b[37m\u001b[0m \u001b[1m22s\u001b[0m 575ms/step - accuracy: 0.7772 - loss: 1.4100 - val_accuracy: 0.8876 - val_loss: 1.0519 - learning_rate: 1.0000e-04\n",
            "Epoch 5/50\n",
            "\u001b[1m32/32\u001b[0m \u001b[32m━━━━━━━━━━━━━━━━━━━━\u001b[0m\u001b[37m\u001b[0m \u001b[1m43s\u001b[0m 577ms/step - accuracy: 0.8169 - loss: 1.1847 - val_accuracy: 0.8989 - val_loss: 0.9910 - learning_rate: 1.0000e-04\n",
            "Epoch 6/50\n",
            "\u001b[1m32/32\u001b[0m \u001b[32m━━━━━━━━━━━━━━━━━━━━\u001b[0m\u001b[37m\u001b[0m \u001b[1m40s\u001b[0m 543ms/step - accuracy: 0.8812 - loss: 1.0115 - val_accuracy: 0.8989 - val_loss: 0.9765 - learning_rate: 1.0000e-04\n",
            "Epoch 7/50\n",
            "\u001b[1m32/32\u001b[0m \u001b[32m━━━━━━━━━━━━━━━━━━━━\u001b[0m\u001b[37m\u001b[0m \u001b[1m41s\u001b[0m 566ms/step - accuracy: 0.8932 - loss: 0.9357 - val_accuracy: 0.9213 - val_loss: 0.9750 - learning_rate: 1.0000e-04\n",
            "Epoch 8/50\n",
            "\u001b[1m32/32\u001b[0m \u001b[32m━━━━━━━━━━━━━━━━━━━━\u001b[0m\u001b[37m\u001b[0m \u001b[1m21s\u001b[0m 542ms/step - accuracy: 0.9031 - loss: 0.9173 - val_accuracy: 0.9101 - val_loss: 1.0397 - learning_rate: 1.0000e-04\n",
            "Epoch 9/50\n",
            "\u001b[1m32/32\u001b[0m \u001b[32m━━━━━━━━━━━━━━━━━━━━\u001b[0m\u001b[37m\u001b[0m \u001b[1m43s\u001b[0m 600ms/step - accuracy: 0.9219 - loss: 0.8191 - val_accuracy: 0.8876 - val_loss: 1.0212 - learning_rate: 1.0000e-04\n",
            "Epoch 10/50\n",
            "\u001b[1m32/32\u001b[0m \u001b[32m━━━━━━━━━━━━━━━━━━━━\u001b[0m\u001b[37m\u001b[0m \u001b[1m23s\u001b[0m 527ms/step - accuracy: 0.9491 - loss: 0.7621 - val_accuracy: 0.9213 - val_loss: 1.0022 - learning_rate: 1.0000e-04\n",
            "Epoch 11/50\n",
            "\u001b[1m32/32\u001b[0m \u001b[32m━━━━━━━━━━━━━━━━━━━━\u001b[0m\u001b[37m\u001b[0m \u001b[1m23s\u001b[0m 541ms/step - accuracy: 0.9543 - loss: 0.7275 - val_accuracy: 0.9101 - val_loss: 0.9822 - learning_rate: 5.0000e-05\n",
            "Epoch 12/50\n",
            "\u001b[1m32/32\u001b[0m \u001b[32m━━━━━━━━━━━━━━━━━━━━\u001b[0m\u001b[37m\u001b[0m \u001b[1m22s\u001b[0m 525ms/step - accuracy: 0.9621 - loss: 0.7376 - val_accuracy: 0.8989 - val_loss: 0.9773 - learning_rate: 5.0000e-05\n"
          ]
        }
      ]
    },
    {
      "cell_type": "markdown",
      "source": [
        "**<h3>6. Plot Training**"
      ],
      "metadata": {
        "id": "VpBBK4en4NZt"
      }
    },
    {
      "cell_type": "code",
      "source": [
        "plt.figure(figsize=(20, 6))\n",
        "plt.plot(history_model.history['accuracy'], label='Akurasi Pelatihan')\n",
        "plt.plot(history_model.history['val_accuracy'], label='Akurasi Validasi')\n",
        "plt.title('Akurasi Model')\n",
        "plt.xlabel('Epoch')\n",
        "plt.ylabel('Akurasi')\n",
        "plt.legend(loc='upper left')\n",
        "plt.show()\n",
        "\n",
        "plt.figure(figsize=(20, 6))\n",
        "plt.plot(history_model.history['loss'], label='Loss Pelatihan')\n",
        "plt.plot(history_model.history['val_loss'], label='Loss Validasi')\n",
        "plt.title('Loss Model')\n",
        "plt.xlabel('Epoch')\n",
        "plt.ylabel('Loss')\n",
        "plt.legend(loc='upper left')\n",
        "plt.show()"
      ],
      "metadata": {
        "colab": {
          "base_uri": "https://localhost:8080/",
          "height": 855
        },
        "id": "QIYCbR5P-OdU",
        "outputId": "6cfa5e0f-c888-4b57-ba3d-c32a260d2305"
      },
      "execution_count": 6,
      "outputs": [
        {
          "output_type": "display_data",
          "data": {
            "text/plain": [
              "<Figure size 2000x600 with 1 Axes>"
            ],
            "image/png": "[encoded data removed]"
          },
          "metadata": {}
        },
        {
          "output_type": "display_data",
          "data": {
            "text/plain": [
              "<Figure size 2000x600 with 1 Axes>"
            ],
            "image/png": "[encoded data removed]"
          },
          "metadata": {}
        }
      ]
    },
    {
      "cell_type": "markdown",
      "source": [
        "**<h3>7. Save Model**"
      ],
      "metadata": {
        "id": "fDFFZ0paDDqr"
      }
    },
    {
      "cell_type": "code",
      "source": [
        "# Menyimpan model ke dalam format keras\n",
        "classification_model.save('/content/drive/MyDrive/Machine-Learning/klasifikasi-makanan/save-model/classification_model.keras')\n",
        "# Menyimpan model ke dalam format HDF5\n",
        "classification_model.save('/content/drive/MyDrive/Machine-Learning/klasifikasi-makanan/save-model/classification_model.h5')\n"
      ],
      "metadata": {
        "id": "1FINZQxJoq6F",
        "outputId": "551064bf-ed66-463f-b73b-defdd625871b",
        "colab": {
          "base_uri": "https://localhost:8080/"
        }
      },
      "execution_count": 7,
      "outputs": [
        {
          "output_type": "stream",
          "name": "stderr",
          "text": [
            "WARNING:absl:You are saving your model as an HDF5 file via `model.save()` or `keras.saving.save_model(model)`. This file format is considered legacy. We recommend using instead the native Keras format, e.g. `model.save('my_model.keras')` or `keras.saving.save_model(model, 'my_model.keras')`. \n"
          ]
        }
      ]
    },
    {
      "cell_type": "markdown",
      "source": [
        "**<h3>8. Load Model**"
      ],
      "metadata": {
        "id": "ZVI8IlVGEBli"
      }
    },
    {
      "cell_type": "code",
      "source": [
        "# Memuat model dari file keras\n",
        "# classification_model = load_model('/content/drive/MyDrive/Machine-Learning/klasifikasi-makanan/save-model/classification_model.keras')\n",
        "# Memuat model dari file HDF5\n",
        "classification_model = load_model('/content/drive/MyDrive/Machine-Learning/klasifikasi-makanan/save-model/classification_model.h5')"
      ],
      "metadata": {
        "id": "axjpX6-uD6Cy",
        "outputId": "868db944-ee99-4bbc-a311-ec04277df977",
        "colab": {
          "base_uri": "https://localhost:8080/"
        }
      },
      "execution_count": 8,
      "outputs": [
        {
          "output_type": "stream",
          "name": "stderr",
          "text": [
            "WARNING:absl:Compiled the loaded model, but the compiled metrics have yet to be built. `model.compile_metrics` will be empty until you train or evaluate the model.\n"
          ]
        }
      ]
    },
    {
      "cell_type": "markdown",
      "source": [
        "**<h3>9. Fungsi load preprocess image and predict image**"
      ],
      "metadata": {
        "id": "zgixLKyjEH4g"
      }
    },
    {
      "cell_type": "code",
      "source": [
        "def load_and_preprocess_image(uploaded_image):\n",
        "    img = Image.open(io.BytesIO(uploaded_image['content']))\n",
        "    img = img.convert('RGB')\n",
        "    img = img.resize(IMAGE_SIZE)\n",
        "    img = np.array(img)\n",
        "    img = img.astype('float32') / 255.0\n",
        "    img = np.expand_dims(img, axis=0)\n",
        "    return img\n",
        "\n",
        "def predict_from_test_folder(test_folder_path, model):\n",
        "    test_datagen = ImageDataGenerator(rescale=1./255)\n",
        "    test_generator = test_datagen.flow_from_directory(\n",
        "        test_folder_path,\n",
        "        target_size=IMAGE_SIZE,\n",
        "        batch_size=BATCH_SIZE,\n",
        "        class_mode=None,\n",
        "        shuffle=False\n",
        "    )\n",
        "\n",
        "    predictions = model.predict(test_generator, steps=len(test_generator), verbose=1)\n",
        "    predicted_class_indices = np.argmax(predictions, axis=1)\n",
        "    class_labels = list(test_generator.class_indices.keys())\n",
        "    predicted_class_names = [class_labels[i] for i in predicted_class_indices]\n",
        "\n",
        "    for filename, class_name in zip(test_generator.filenames, predicted_class_names):\n",
        "        print(f'File: {filename} -> Predicted Class: {class_name}')\n",
        "\n",
        "predict_from_test_folder(TEST_DIR, classification_model)"
      ],
      "metadata": {
        "colab": {
          "base_uri": "https://localhost:8080/"
        },
        "id": "fgIK-BaOIWxO",
        "outputId": "e4260f9a-da68-4aad-eeb0-393bc70cc90a"
      },
      "execution_count": 9,
      "outputs": [
        {
          "output_type": "stream",
          "name": "stdout",
          "text": [
            "Found 33 images belonging to 11 classes.\n",
            "\u001b[1m2/2\u001b[0m \u001b[32m━━━━━━━━━━━━━━━━━━━━\u001b[0m\u001b[37m\u001b[0m \u001b[1m7s\u001b[0m 4s/step\n",
            "File: 01. Kerak Telor/kerak-telor-12_jpg.rf.926782218c6fcf2a7cd0c273fc96cfca.jpg -> Predicted Class: 01. Kerak Telor\n",
            "File: 01. Kerak Telor/kerak-telor-5_jpg.rf.eea991790e94450e61ca26856b6cac3e.jpg -> Predicted Class: 01. Kerak Telor\n",
            "File: 02. Mie Aceh/Mie-Aceh-11_jpg.rf.3e335854e93515a60e2abe4b5e18467f.jpg -> Predicted Class: 02. Mie Aceh\n",
            "File: 02. Mie Aceh/Mie-Aceh-1_jpg.rf.6a5499fdd491ed09bf7cbd290d27006e.jpg -> Predicted Class: 02. Mie Aceh\n",
            "File: 02. Mie Aceh/Mie-Aceh-29_jpg.rf.b9b519e03d84a7085b371f5b209fb0f9.jpg -> Predicted Class: 02. Mie Aceh\n",
            "File: 02. Mie Aceh/Mie-Aceh-38_jpg.rf.cd026f018439eda70553b97245d8263c.jpg -> Predicted Class: 02. Mie Aceh\n",
            "File: 03. Papeda/Papeda-12_jpg.rf.8af1a74256153adae9b0cceb3398899c.jpg -> Predicted Class: 03. Papeda\n",
            "File: 03. Papeda/Papeda-17_jpg.rf.42a155b59e064afc5db25a6ef3f45478.jpg -> Predicted Class: 03. Papeda\n",
            "File: 03. Papeda/Papeda-6_jpg.rf.0b1a84104b3d77cd752b56ea653deb58.jpg -> Predicted Class: 03. Papeda\n",
            "File: 04. Pempek/Pempek-13_jpg.rf.41057b292acac7d695efa78d44046568.jpg -> Predicted Class: 04. Pempek\n",
            "File: 04. Pempek/Pempek-23_jpg.rf.4725fbd73f7a8b9d2dec2d598ef527f2.jpg -> Predicted Class: 04. Pempek\n",
            "File: 04. Pempek/Pempek-46_jpg.rf.dacb5ecce695a08af5ac44308032f4a8.jpg -> Predicted Class: 04. Pempek\n",
            "File: 05. Soto Banjar/soto-banjar-24_jpg.rf.c361ffa5f2bc0be9a7bc74a1bb94a244.jpg -> Predicted Class: 05. Soto Banjar\n",
            "File: 05. Soto Banjar/soto-banjar-36_jpg.rf.b55d40fb2ef4bcdd358a8f8f6eccb222.jpg -> Predicted Class: 05. Soto Banjar\n",
            "File: 05. Soto Banjar/soto-banjar-5_jpg.rf.3598073902fe2b85861cb02ce5c88e84.jpg -> Predicted Class: 05. Soto Banjar\n",
            "File: 06. Tahu Sumedang/TahuSumedang-32_jpg.rf.3e81197b5a732a8f2ebadbd73bcd2f48.jpg -> Predicted Class: 04. Pempek\n",
            "File: 07. Bika Ambon/Cropped_6_jpg.rf.287e9352a031ab6fed138cf001c0edbe.jpg -> Predicted Class: 07. Bika Ambon\n",
            "File: 07. Bika Ambon/Cropped_7_jpg.rf.500a887e7e4028a747366d355fef7443.jpg -> Predicted Class: 07. Bika Ambon\n",
            "File: 07. Bika Ambon/Cropped_8_jpg.rf.5cec68a7e4ff380975bdb28f0fe93380.jpg -> Predicted Class: 07. Bika Ambon\n",
            "File: 08. Rendang/Rendang-38_jpg.rf.975ac21199a106fe451043612c004808.jpg -> Predicted Class: 08. Rendang\n",
            "File: 08. Rendang/Rendang-3_jpg.rf.9165e02f04190aa967afbd3215f9e1a2.jpg -> Predicted Class: 08. Rendang\n",
            "File: 08. Rendang/Rendang-44_jpg.rf.a8d9006b8eabab6ad2b5c8bd5e445c7d.jpg -> Predicted Class: 08. Rendang\n",
            "File: 08. Rendang/Rendang-45_jpg.rf.8c14021b036adb32f83af79f99c42aa5.jpg -> Predicted Class: 08. Rendang\n",
            "File: 08. Rendang/Rendang-46_jpg.rf.7eec4b81fb9e96947186e00d5e9ba8e8.jpg -> Predicted Class: 08. Rendang\n",
            "File: 08. Rendang/Rendang-6_jpg.rf.58144fa7cf1a8225935faec2ac288860.jpg -> Predicted Class: 08. Rendang\n",
            "File: 09. Sate Lilit/Cropped_1_jpg.rf.17aedc8451cebd7cc06cbf856bd5a141.jpg -> Predicted Class: 09. Sate Lilit\n",
            "File: 09. Sate Lilit/Cropped_4_jpg.rf.c9637765622f301223963b42ec035238.jpg -> Predicted Class: 09. Sate Lilit\n",
            "File: 09. Sate Lilit/Cropped_5_jpg.rf.aa6dd37ff57c5870ba939672de562c39.jpg -> Predicted Class: 09. Sate Lilit\n",
            "File: 10. Es Pisang Ijo/Cropped_es_pisang_ijo.jpeg -> Predicted Class: 10. Es Pisang Ijo\n",
            "File: 10. Es Pisang Ijo/Cropped_es_pisang_ijo_58.jpeg -> Predicted Class: 10. Es Pisang Ijo\n",
            "File: 10. Es Pisang Ijo/Cropped_es_pisang_ijo_59.jpeg -> Predicted Class: 10. Es Pisang Ijo\n",
            "File: 11. Lumpia/Cropped_lumpia-38.jpeg -> Predicted Class: 11. Lumpia\n",
            "File: 11. Lumpia/Cropped_lumpia-39.jpeg -> Predicted Class: 11. Lumpia\n"
          ]
        }
      ]
    },
    {
      "cell_type": "markdown",
      "source": [
        "**<h3>10. Fungsi uploader**"
      ],
      "metadata": {
        "id": "MbbIjvhMIjtl"
      }
    },
    {
      "cell_type": "code",
      "source": [
        "uploader = widgets.FileUpload(accept='image/*', multiple=False)\n",
        "display(uploader)\n",
        "\n",
        "def predict_image_with_threshold(uploader, model, threshold=0.6):\n",
        "    if uploader.value:\n",
        "        uploaded_image = list(uploader.value.values())[0]\n",
        "        image = load_and_preprocess_image(uploaded_image)\n",
        "        predictions = model.predict(image)\n",
        "        max_prediction_confidence = np.max(predictions)\n",
        "\n",
        "        if max_prediction_confidence < threshold:\n",
        "            print(\"Data tidak tersedia di dataset\")\n",
        "        else:\n",
        "            predicted_class = np.argmax(predictions, axis=1)\n",
        "            class_labels = list(train_dataset.class_indices.keys())\n",
        "            predicted_class_name = class_labels[predicted_class[0]]\n",
        "            print(f\"Predicted Class: {predicted_class_name} with confidence {max_prediction_confidence:.2f}\")\n",
        "\n",
        "predict_button = widgets.Button(description=\"Predict Image\")\n",
        "predict_button.on_click(lambda x: predict_image_with_threshold(uploader, classification_model))\n",
        "\n",
        "# Display the button\n",
        "display(predict_button)"
      ],
      "metadata": {
        "colab": {
          "base_uri": "https://localhost:8080/",
          "height": 116,
          "referenced_widgets": [
            "a95ee41563ae4d0e98f4e42b2be4c334",
            "725d6ee1a4ee4adca772e093b1378332",
            "48c8cb7558d9401f9ec5078430125248",
            "7b1e13e34a664d85aedb20e0a915a9bf",
            "26363d4f32a94e48a6d734c3385371b8",
            "e7b1deca03284f9681df3a3167a86576"
          ]
        },
        "id": "2ahXTy5DxIUM",
        "outputId": "19e81a80-a166-4cb6-d6f1-59a28c9e037d"
      },
      "execution_count": 10,
      "outputs": [
        {
          "output_type": "display_data",
          "data": {
            "text/plain": [
              "FileUpload(value={}, accept='image/*', description='Upload')"
            ],
            "application/vnd.jupyter.widget-view+json": {
              "version_major": 2,
              "version_minor": 0,
              "model_id": "a95ee41563ae4d0e98f4e42b2be4c334"
            }
          },
          "metadata": {}
        },
        {
          "output_type": "display_data",
          "data": {
            "text/plain": [
              "Button(description='Predict Image', style=ButtonStyle())"
            ],
            "application/vnd.jupyter.widget-view+json": {
              "version_major": 2,
              "version_minor": 0,
              "model_id": "7b1e13e34a664d85aedb20e0a915a9bf"
            }
          },
          "metadata": {}
        },
        {
          "output_type": "stream",
          "name": "stdout",
          "text": [
            "\u001b[1m1/1\u001b[0m \u001b[32m━━━━━━━━━━━━━━━━━━━━\u001b[0m\u001b[37m\u001b[0m \u001b[1m2s\u001b[0m 2s/step\n",
            "Predicted Class: 01. Kerak Telor with confidence 1.00\n"
          ]
        }
      ]
    }
  ]
}